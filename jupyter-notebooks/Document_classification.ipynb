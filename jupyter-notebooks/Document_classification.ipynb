{
 "cells": [
  {
   "cell_type": "markdown",
   "id": "af74fca6-a8d6-4ac3-a249-0ff343e8ec0d",
   "metadata": {},
   "source": [
    "<h1><center> ML Assignment (Form Document Classifier) \n",
    "    - Sept 2023\n",
    "</center></h1>"
   ]
  },
  {
   "cell_type": "markdown",
   "id": "0ee0b288-7583-4d5b-b1e9-e0520ee2dea3",
   "metadata": {},
   "source": [
    "## Problem statement"
   ]
  },
  {
   "cell_type": "markdown",
   "id": "dab9ced1-7a57-426b-ab4d-5ca79aac5135",
   "metadata": {},
   "source": [
    "The objective of this assignment is to build an NLP solution for the provided dataset. \n",
    "The dataset consists of scanned documents from an archive (https://www.sec.gov/Archives/edgar/vprr/index.html)"
   ]
  },
  {
   "cell_type": "markdown",
   "id": "138d7097-566b-4f16-92b4-3454080f06cd",
   "metadata": {},
   "source": [
    "- Build a predictive model that can categorize a form into one of multiple form types (such as Form D, Form X, Form 13F etc)"
   ]
  },
  {
   "cell_type": "markdown",
   "id": "13e5671e-c607-4832-b181-301084333275",
   "metadata": {},
   "source": [
    "#### Table of Contents"
   ]
  },
  {
   "cell_type": "markdown",
   "id": "18ccc314-dd68-480a-ad4f-ca412c62c01a",
   "metadata": {},
   "source": [
    "* **Data Loading / Preparation:** Load the data and understand the basic structure of the dataset.\n",
    "\n",
    "* **Data Preprocessing:** Since the data consist of only PDFs, we have to convert them into Images for further processing / model building steps\n",
    "\n",
    "* **Feature Engineering (Image Augmentation / Transformation,if any):** Create new features that might help improve the model's performance. Also, select the most relevant features for the model.\n",
    "\n",
    "* **Model Building:** Train the model using different machine learning algorithms.\n",
    "\n",
    "* **Model Evaluation**: Evaluate the model's performance using appropriate metrics.\n",
    "\n",
    "* **Model Deployment**: Used Gradio to deploy the model (Pls check src/main.py)"
   ]
  },
  {
   "cell_type": "markdown",
   "id": "3de47b62-87c1-4946-a443-13f5b5e3b4ea",
   "metadata": {},
   "source": [
    "### Data Loading / Preparation"
   ]
  },
  {
   "cell_type": "markdown",
   "id": "6bd222ba-b323-4aac-b11c-45e093aedd53",
   "metadata": {},
   "source": [
    "#### Import libraries"
   ]
  },
  {
   "cell_type": "code",
   "execution_count": 1,
   "id": "e6eb6fed-bcc1-45fb-ad54-e0f3b23ec93e",
   "metadata": {},
   "outputs": [],
   "source": [
    "# Import libraries\n",
    "import os\n",
    "\n",
    "\n",
    "# Deep learning libraries - Tensorflow\n",
    "from keras import applications\n",
    "from keras.preprocessing.image import ImageDataGenerator\n",
    "from keras import optimizers\n",
    "from tensorflow.keras.models import Sequential, Model, load_model\n",
    "from tensorflow.keras.layers import Dropout, Flatten, Dense, GlobalAveragePooling2D, MaxPooling2D, Conv2D, Dropout, BatchNormalization\n",
    "from tensorflow.keras import backend as k\n",
    "from tensorflow.keras.callbacks import ModelCheckpoint, LearningRateScheduler, TensorBoard, EarlyStopping\n",
    "# from keras.utils import np_utils\n",
    "from tensorflow.keras.preprocessing import image\n",
    "from tensorflow.keras.callbacks import ReduceLROnPlateau\n",
    "from tensorflow.keras.optimizers import *\n",
    "\n",
    "from tensorflow.keras.applications import VGG16\n",
    "from tensorflow.keras.models import Sequential\n",
    "from tensorflow.keras.layers import Dense, Flatten, GlobalAveragePooling2D\n",
    "\n",
    "# Other libaries\n",
    "from pdf2image import convert_from_path\n",
    "import pytesseract\n",
    "import tempfile\n",
    "from tqdm.notebook import tqdm\n",
    "\n",
    "# Image augmentation\n",
    "import cv2\n",
    "import albumentations as A\n"
   ]
  },
  {
   "cell_type": "markdown",
   "id": "bc24c2c9-8ae3-4335-be46-894155ebf247",
   "metadata": {},
   "source": [
    "#### Set Train, Test paths"
   ]
  },
  {
   "cell_type": "code",
   "execution_count": 2,
   "id": "49140440-36a3-4378-9a82-d05ead8dcd04",
   "metadata": {},
   "outputs": [],
   "source": [
    "root_dir = \"../data\"\n",
    "\n",
    "train_pdfs_dir = os.path.join(root_dir, \"train_pdfs\")\n",
    "train_dir = os.path.join(root_dir, \"train\")\n",
    "test_dir = os.path.join(root_dir, \"test\")"
   ]
  },
  {
   "cell_type": "markdown",
   "id": "1def980d-1375-4c8f-b935-47249e320768",
   "metadata": {},
   "source": [
    "> Note: All files were manually labelled into classes such as Form X, Form 13f, form D etc"
   ]
  },
  {
   "cell_type": "markdown",
   "id": "7ab242eb-712a-4daa-bea7-f4c893c0f4cf",
   "metadata": {},
   "source": [
    "#### Check number of documents for each class (Category)"
   ]
  },
  {
   "cell_type": "code",
   "execution_count": 8,
   "id": "e2907f32-60a1-4e49-8e2f-7101adbb2f5b",
   "metadata": {},
   "outputs": [],
   "source": [
    "def show_file_counts(dir):\n",
    "    \n",
    "    path_dict = dict()\n",
    "    \n",
    "    # Loop through train directory to find number of pdfs for each class\n",
    "    for path in os.listdir(dir):\n",
    "        path_dict[path] = len(os.listdir(os.path.join(dir, path)))\n",
    "    \n",
    "    # Sort by descending values (Class with max number of pdf first)\n",
    "    path_dict = dict(sorted(path_dict.items(), key=lambda x: x[1])[::-1])\n",
    "    \n",
    "   \n",
    "\n",
    "    return path_dict\n"
   ]
  },
  {
   "cell_type": "code",
   "execution_count": 9,
   "id": "2368faba-f9fa-4582-bb98-9fe684a4a0d4",
   "metadata": {
    "scrolled": true
   },
   "outputs": [
    {
     "name": "stdout",
     "output_type": "stream",
     "text": [
      "Number of PDFs present for each class (highest first): \n",
      "\n",
      " {'Form-13F': 199, 'Form-D': 40, '82-Submission-sheet': 27, 'Others': 16, 'Form-X': 11, 'Form-TA': 6, 'Form-19B': 6}\n"
     ]
    }
   ],
   "source": [
    "print(\"Number of PDFs present for each class (highest first): \\n\\n\", show_file_counts(train_pdfs_dir))"
   ]
  },
  {
   "cell_type": "markdown",
   "id": "4d8a6c68-b3fd-4116-9bfa-4786532bf37a",
   "metadata": {},
   "source": [
    "Clearly from the results above, we can see that Form-13F has the highest number of pdfs present as compared to rest of the classes"
   ]
  },
  {
   "cell_type": "markdown",
   "id": "881e4c21-87ab-49ac-9d35-10e9c5a8c242",
   "metadata": {},
   "source": [
    "### Convert PDFs to Image"
   ]
  },
  {
   "cell_type": "code",
   "execution_count": 6,
   "id": "f73441a4-0461-4185-87e1-d427f7f41bca",
   "metadata": {},
   "outputs": [
    {
     "name": "stdout",
     "output_type": "stream",
     "text": [
      "../data\\train\\82-Submission-sheet True\n"
     ]
    },
    {
     "data": {
      "application/vnd.jupyter.widget-view+json": {
       "model_id": "dc3e21bd2df1412d87b24b9f7d98f0c0",
       "version_major": 2,
       "version_minor": 0
      },
      "text/plain": [
       "  0%|          | 0/27 [00:00<?, ?it/s]"
      ]
     },
     "metadata": {},
     "output_type": "display_data"
    },
    {
     "name": "stdout",
     "output_type": "stream",
     "text": [
      "../data\\train\\Form-13F True\n"
     ]
    },
    {
     "data": {
      "application/vnd.jupyter.widget-view+json": {
       "model_id": "dccdb79d36734f278ff398eca168cc65",
       "version_major": 2,
       "version_minor": 0
      },
      "text/plain": [
       "  0%|          | 0/199 [00:00<?, ?it/s]"
      ]
     },
     "metadata": {},
     "output_type": "display_data"
    },
    {
     "name": "stdout",
     "output_type": "stream",
     "text": [
      "../data\\train\\Form-19B True\n"
     ]
    },
    {
     "data": {
      "application/vnd.jupyter.widget-view+json": {
       "model_id": "1e7fb8b282184fb6a7f46ac71724fa11",
       "version_major": 2,
       "version_minor": 0
      },
      "text/plain": [
       "  0%|          | 0/6 [00:00<?, ?it/s]"
      ]
     },
     "metadata": {},
     "output_type": "display_data"
    },
    {
     "name": "stdout",
     "output_type": "stream",
     "text": [
      "../data\\train\\Form-D True\n"
     ]
    },
    {
     "data": {
      "application/vnd.jupyter.widget-view+json": {
       "model_id": "108bd9a1c63548faa77e4452b3a8f829",
       "version_major": 2,
       "version_minor": 0
      },
      "text/plain": [
       "  0%|          | 0/40 [00:00<?, ?it/s]"
      ]
     },
     "metadata": {},
     "output_type": "display_data"
    },
    {
     "name": "stdout",
     "output_type": "stream",
     "text": [
      "../data\\train\\Form-TA True\n"
     ]
    },
    {
     "data": {
      "application/vnd.jupyter.widget-view+json": {
       "model_id": "eb7f725a30a34326a996c083e470682e",
       "version_major": 2,
       "version_minor": 0
      },
      "text/plain": [
       "  0%|          | 0/6 [00:00<?, ?it/s]"
      ]
     },
     "metadata": {},
     "output_type": "display_data"
    },
    {
     "name": "stdout",
     "output_type": "stream",
     "text": [
      "../data\\train\\Form-X True\n"
     ]
    },
    {
     "data": {
      "application/vnd.jupyter.widget-view+json": {
       "model_id": "e0086e5a17ec454eb63d747436e1fded",
       "version_major": 2,
       "version_minor": 0
      },
      "text/plain": [
       "  0%|          | 0/11 [00:00<?, ?it/s]"
      ]
     },
     "metadata": {},
     "output_type": "display_data"
    },
    {
     "name": "stdout",
     "output_type": "stream",
     "text": [
      "../data\\train\\Others True\n"
     ]
    },
    {
     "data": {
      "application/vnd.jupyter.widget-view+json": {
       "model_id": "7421bf6779a8482780e4dc8a3d4fd413",
       "version_major": 2,
       "version_minor": 0
      },
      "text/plain": [
       "  0%|          | 0/16 [00:00<?, ?it/s]"
      ]
     },
     "metadata": {},
     "output_type": "display_data"
    }
   ],
   "source": [
    "# Loop through PDFs dir\n",
    "for form_category_name in os.listdir(train_pdfs_dir):\n",
    "\n",
    "    # Image dir\n",
    "    form_category_folder_name = os.path.join(train_dir, form_category_name)\n",
    "\n",
    "    # PDFs dir\n",
    "    form_category_pdf_folder_name = os.path.join(train_pdfs_dir, form_category_name)\n",
    "    \n",
    "    print(form_category_folder_name, os.path.isdir(form_category_folder_name))\n",
    "    if not os.path.isdir(form_category_folder_name):\n",
    "        os.mkdir(form_category_folder_name)\n",
    "\n",
    "\n",
    "    for pdf_path in tqdm(os.listdir(form_category_pdf_folder_name)):\n",
    "        pdf_full_path = os.path.join(form_category_pdf_folder_name, pdf_path)      \n",
    "        \n",
    "        with tempfile.TemporaryDirectory() as path:\n",
    "            # Convert PDF to Image (Only consider 1st page)\n",
    "            images_from_path = convert_from_path(pdf_full_path, output_folder=form_category_folder_name, fmt='png', first_page=1, last_page=1)\n",
    "            "
   ]
  },
  {
   "cell_type": "code",
   "execution_count": 10,
   "id": "40c3ce31-0233-461f-94bf-61853bf7a2a9",
   "metadata": {},
   "outputs": [
    {
     "name": "stdout",
     "output_type": "stream",
     "text": [
      "Number of images present for each class (highest first): \n",
      "\n",
      " {'Form-13F': 199, 'Form-D': 40, '82-Submission-sheet': 27, 'Others': 16, 'Form-X': 11, 'Form-TA': 6, 'Form-19B': 6}\n"
     ]
    }
   ],
   "source": [
    "print(\"Number of images present for each class (highest first): \\n\\n\", show_file_counts(train_dir))"
   ]
  },
  {
   "cell_type": "code",
   "execution_count": null,
   "id": "0af088d2-b9a7-4d5d-837a-44881f0be0ee",
   "metadata": {},
   "outputs": [],
   "source": []
  },
  {
   "cell_type": "markdown",
   "id": "b6e44a6a-4927-4fe5-a58c-b7dd0d1408e5",
   "metadata": {},
   "source": [
    "### Data augmentation - for classes with lesser data"
   ]
  },
  {
   "cell_type": "markdown",
   "id": "f55bc910-8cea-4f01-aa2d-9a158603cb68",
   "metadata": {},
   "source": [
    "Since we saw from the above, Form 13-F has the highest number of images present. Thus to avoid class imbalance, we augment images in other classes to match the number of images in the majority class"
   ]
  },
  {
   "cell_type": "code",
   "execution_count": 20,
   "id": "485f7a3f-8ce7-42b9-be45-24779146c65a",
   "metadata": {
    "scrolled": true
   },
   "outputs": [
    {
     "name": "stdout",
     "output_type": "stream",
     "text": [
      "82-Submission-sheet\n"
     ]
    },
    {
     "data": {
      "application/vnd.jupyter.widget-view+json": {
       "model_id": "bc0847eea90a4518ae9d95feb86571a0",
       "version_major": 2,
       "version_minor": 0
      },
      "text/plain": [
       "  0%|          | 0/27 [00:00<?, ?it/s]"
      ]
     },
     "metadata": {},
     "output_type": "display_data"
    },
    {
     "name": "stdout",
     "output_type": "stream",
     "text": [
      "Form-19B\n"
     ]
    },
    {
     "data": {
      "application/vnd.jupyter.widget-view+json": {
       "model_id": "def8716abe5043f8b4720e7bf5d72b44",
       "version_major": 2,
       "version_minor": 0
      },
      "text/plain": [
       "  0%|          | 0/4 [00:00<?, ?it/s]"
      ]
     },
     "metadata": {},
     "output_type": "display_data"
    },
    {
     "name": "stdout",
     "output_type": "stream",
     "text": [
      "Form-D\n"
     ]
    },
    {
     "data": {
      "application/vnd.jupyter.widget-view+json": {
       "model_id": "381c30ba24ed4526bc76c4bc3f98ebba",
       "version_major": 2,
       "version_minor": 0
      },
      "text/plain": [
       "  0%|          | 0/40 [00:00<?, ?it/s]"
      ]
     },
     "metadata": {},
     "output_type": "display_data"
    },
    {
     "name": "stdout",
     "output_type": "stream",
     "text": [
      "Form-TA\n"
     ]
    },
    {
     "data": {
      "application/vnd.jupyter.widget-view+json": {
       "model_id": "ce66a6b3f75c46e7b03f88d665bf94c2",
       "version_major": 2,
       "version_minor": 0
      },
      "text/plain": [
       "  0%|          | 0/6 [00:00<?, ?it/s]"
      ]
     },
     "metadata": {},
     "output_type": "display_data"
    },
    {
     "name": "stdout",
     "output_type": "stream",
     "text": [
      "Form-X\n"
     ]
    },
    {
     "data": {
      "application/vnd.jupyter.widget-view+json": {
       "model_id": "85b9bac6f1394a658ed56c2b04827631",
       "version_major": 2,
       "version_minor": 0
      },
      "text/plain": [
       "  0%|          | 0/11 [00:00<?, ?it/s]"
      ]
     },
     "metadata": {},
     "output_type": "display_data"
    },
    {
     "name": "stdout",
     "output_type": "stream",
     "text": [
      "Others\n"
     ]
    },
    {
     "data": {
      "application/vnd.jupyter.widget-view+json": {
       "model_id": "56fe9d6931314201b14c7a1c6211a8c6",
       "version_major": 2,
       "version_minor": 0
      },
      "text/plain": [
       "  0%|          | 0/16 [00:00<?, ?it/s]"
      ]
     },
     "metadata": {},
     "output_type": "display_data"
    }
   ],
   "source": [
    "# Using Albumentations for image augmentation\n",
    "transform = A.Compose([\n",
    "    A.RandomRotate90(),\n",
    "    A.OneOf([\n",
    "        A.MotionBlur(p=.2),\n",
    "        A.MedianBlur(blur_limit=3, p=0.1),\n",
    "        A.Blur(blur_limit=3, p=0.1)\n",
    "    ], p=0.2),\n",
    "    A.OneOf([A.OpticalDistortion(p=0.3), A.GridDistortion(p=0.1)]),\n",
    "    A.OneOf([A.RandomBrightnessContrast(), A.CLAHE(clip_limit=2)]),\n",
    "    A.HueSaturationValue(p=0.3)\n",
    "])\n",
    "\n",
    "# Loop through train directory to find number of pdfs for each class\n",
    "for idx, path in enumerate(os.listdir(train_dir)):\n",
    "    img_class_path = os.path.join(train_dir, path)\n",
    "    \n",
    "    \n",
    "    target_no_of_images = 199\n",
    "    \n",
    "    if path !=  'Form-13F':\n",
    "        no_of_images = len(os.listdir(img_class_path))\n",
    "        print(path)\n",
    "        for img_path in tqdm(os.listdir(img_class_path)):\n",
    "            img_full_path = os.path.join(img_class_path, img_path)\n",
    "            # for i in range(target_no_of_images - path_dict[path] + 1):\n",
    "            batch_size = round((target_no_of_images - no_of_images) /no_of_images)\n",
    "            for i in range(0, batch_size+1):\n",
    "                image = cv2.imread(img_full_path)\n",
    "                image = cv2.cvtColor(image, cv2.COLOR_BGR2RGB)\n",
    "                # print(image)\n",
    "                augmented_image = transform(image=image)['image']\n",
    "                cv2.imwrite(os.path.join(img_class_path, f\"augmented_{i}\"+ img_path), augmented_image)       "
   ]
  },
  {
   "cell_type": "code",
   "execution_count": 25,
   "id": "fe8a5680-cf6f-4490-83a4-274bc67ec174",
   "metadata": {},
   "outputs": [
    {
     "data": {
      "text/plain": [
       "{'Form-D': 240,\n",
       " '82-Submission-sheet': 216,\n",
       " 'Form-X': 209,\n",
       " 'Others': 208,\n",
       " 'Form-TA': 204,\n",
       " 'Form-19B': 204,\n",
       " 'Form-13F': 199}"
      ]
     },
     "execution_count": 25,
     "metadata": {},
     "output_type": "execute_result"
    }
   ],
   "source": [
    "show_file_counts(train_dir)"
   ]
  },
  {
   "cell_type": "code",
   "execution_count": null,
   "id": "9b48c600-b244-4e42-9335-40b32ecd7279",
   "metadata": {},
   "outputs": [],
   "source": []
  },
  {
   "cell_type": "code",
   "execution_count": null,
   "id": "7667b661-fc60-44dc-98ed-44af5144e567",
   "metadata": {},
   "outputs": [],
   "source": []
  },
  {
   "cell_type": "markdown",
   "id": "6049ed03-e328-4339-a8d8-c3e1391356b7",
   "metadata": {},
   "source": [
    "----"
   ]
  },
  {
   "cell_type": "markdown",
   "id": "2cd164ef-8d6f-4d70-ab73-1ac5237d28de",
   "metadata": {},
   "source": [
    "# Model building"
   ]
  },
  {
   "cell_type": "markdown",
   "id": "a4ea7fab-199d-4bc6-ba2e-f095c6b24efa",
   "metadata": {},
   "source": [
    "Here we propose two ways of solving the problem statement:\n",
    " - **Solution 1: NLP-based using Tesseract OCR Engine**\n",
    " - **Solution 2: Using Deep learning models (VGG16)**"
   ]
  },
  {
   "cell_type": "markdown",
   "id": "55e8b6de-8d7d-402c-aab7-8f51fa1f264d",
   "metadata": {},
   "source": [
    "#### Solution 1: NLP based - using Tesseract"
   ]
  },
  {
   "cell_type": "code",
   "execution_count": 102,
   "id": "d930b9fc-de24-4ded-b0e1-eb8b8c5752bc",
   "metadata": {},
   "outputs": [
    {
     "name": "stdout",
     "output_type": "stream",
     "text": [
      "['Form-X']\n"
     ]
    }
   ],
   "source": [
    "TESSERACT_PATH = r\"E:\\Github\\ML-NLP-Assignment\\Tesseract\\tesseract.exe\"\n",
    "pytesseract.pytesseract.tesseract_cmd = TESSERACT_PATH\n",
    "\n",
    "from PIL import Image\n",
    "import re \n",
    "from fuzzywuzzy import fuzz\n",
    "\n",
    "form_classes = [x for x in show_file_counts(train_dir).keys()]\n",
    "# print(form_classes)\n",
    "if '82-Submission-sheet' in form_classes:\n",
    "    form_classes.remove('82-Submission-sheet')\n",
    "    form_classes.append('82-Submissions-facing-sheet')\n",
    "\n",
    "# Loop through train directory to find number of pdfs for each class (using Form X class for this scenario)\n",
    "for idx, path in enumerate([os.listdir(train_dir)[0]]):\n",
    "    # Get image class path - eg: Form x, Form D etc\n",
    "    img_class_path = os.path.join(train_dir, path)\n",
    "\n",
    "    # Loop through images of Class\n",
    "    for img_path in [os.listdir(img_class_path)[13]]:\n",
    "        # Get path of image\n",
    "        img_full_path = os.path.join(img_class_path, img_path)\n",
    "\n",
    "        # Extract data (perform OCR) on image \n",
    "        data = pytesseract.image_to_string(img_full_path,lang='eng', config='--psm 6')\n",
    "\n",
    "        # Split the result string into an array (list of sentences)\n",
    "        data_split = data.split(\"\\n\")\n",
    "        # Clean words and keep only letter and numbers\n",
    "        data_cleaned = [re.sub(r'[^a-zA-Z0-9]',\" \", x.lower()) for x in data_split] \n",
    "        # print(data)\n",
    "\n",
    "        # Fuzzy match words with Class names, for eg: 'Application Form D' from Image with Class name 'Form D', and tag classes\n",
    "        for idx, line in enumerate(data_cleaned):\n",
    "            get_class_name = [class_name for class_name in form_classes if re.sub(r'[^a-zA-Z0-9]',\" \", class_name.lower()) in line or fuzz.ratio(re.sub(r'[^a-zA-Z0-9]',\" \", class_name.lower()), line) > 90 ]\n",
    "            if get_class_name:\n",
    "                print(get_class_name)\n",
    "                break\n",
    "            elif idx == len(data_cleaned) - 1 and not get_class_name:\n",
    "                print(\"Others\")\n",
    "        temp = Image.open(img_full_path)\n",
    "        temp.show()"
   ]
  },
  {
   "cell_type": "code",
   "execution_count": null,
   "id": "849d0744-e9aa-4fef-ac13-41465ab7c635",
   "metadata": {},
   "outputs": [],
   "source": []
  },
  {
   "cell_type": "markdown",
   "id": "8fe68514-c574-4b33-975b-08db2a99e5e5",
   "metadata": {},
   "source": [
    "#### Solution 2: Using Deep learning models (VGG16)"
   ]
  },
  {
   "cell_type": "markdown",
   "id": "6d0e3603-7939-403a-8781-cc11ee34afcc",
   "metadata": {},
   "source": [
    "*Since we would be finetuning a VGG16 model, it includes adding few layers after the default output layer, so that the model is finetuned on the custom dataset with the target classes*"
   ]
  },
  {
   "cell_type": "code",
   "execution_count": 224,
   "id": "e841af7d-fa91-4ec0-9a17-45f72a6ccde0",
   "metadata": {},
   "outputs": [],
   "source": [
    "from PIL import Image, ImageFile\n",
    "ImageFile.LOAD_TRUNCATED_IMAGES = True"
   ]
  },
  {
   "cell_type": "markdown",
   "id": "b332dc03-51e5-48e1-b452-b974abde42d3",
   "metadata": {
    "jp-MarkdownHeadingCollapsed": true
   },
   "source": [
    "**Create train, test data loaders**"
   ]
  },
  {
   "cell_type": "code",
   "execution_count": 274,
   "id": "20246d89-dbf5-42cb-8749-9e401deb7fa6",
   "metadata": {},
   "outputs": [
    {
     "name": "stdout",
     "output_type": "stream",
     "text": [
      "Found 1480 images belonging to 7 classes.\n",
      "Found 26 images belonging to 6 classes.\n"
     ]
    }
   ],
   "source": [
    "# Creating data generators\n",
    "train_datagen = ImageDataGenerator()\n",
    "test_datagen = ImageDataGenerator()\n",
    "\n",
    "# Load images from Train and test directory into data generators (i.e creating data loaders)\n",
    "train_loader = train_datagen.flow_from_directory(train_dir, batch_size=16)\n",
    "test_loader = test_datagen.flow_from_directory(test_dir)"
   ]
  },
  {
   "cell_type": "code",
   "execution_count": null,
   "id": "023d16fa-1439-40ae-9dcd-b04e803d42e0",
   "metadata": {},
   "outputs": [],
   "source": []
  },
  {
   "cell_type": "markdown",
   "id": "03392b13-f0af-4e44-a31b-980b57ff00ae",
   "metadata": {},
   "source": [
    "**Initialize VGG16 model**"
   ]
  },
  {
   "cell_type": "code",
   "execution_count": 275,
   "id": "bd9e924b-c53d-4b81-aa4a-1408ae4e355a",
   "metadata": {},
   "outputs": [],
   "source": [
    "vgg16_model = VGG16(weights='imagenet', include_top=False, input_shape=(256, 256,3)) "
   ]
  },
  {
   "cell_type": "code",
   "execution_count": 276,
   "id": "7a81946f-a5d1-48de-b8ab-01bb73c1b358",
   "metadata": {
    "scrolled": true
   },
   "outputs": [
    {
     "name": "stdout",
     "output_type": "stream",
     "text": [
      "0 input_15 False\n",
      "1 block1_conv1 False\n",
      "2 block1_conv2 False\n",
      "3 block1_pool False\n",
      "4 block2_conv1 False\n",
      "5 block2_conv2 False\n",
      "6 block2_pool False\n",
      "7 block3_conv1 False\n",
      "8 block3_conv2 False\n",
      "9 block3_conv3 False\n",
      "10 block3_pool False\n",
      "11 block4_conv1 False\n",
      "12 block4_conv2 False\n",
      "13 block4_conv3 False\n",
      "14 block4_pool False\n",
      "15 block5_conv1 True\n",
      "16 block5_conv2 True\n",
      "17 block5_conv3 True\n",
      "18 block5_pool True\n",
      "19 flatten_18 True\n",
      "20 dense_54 True\n",
      "21 dropout_18 True\n",
      "22 dense_55 True\n",
      "23 dense_56 True\n"
     ]
    }
   ],
   "source": [
    "# Add Dense layers along with final Dense layer for predicting class (Finetuning)\n",
    "x = vgg16_model.output\n",
    "x = Flatten()(x)\n",
    "x = Dense(256, activation='relu')(x)\n",
    "x = Dropout(0.5)(x)\n",
    "x = Dense(128, activation='relu')(x)\n",
    "predictions = Dense(7, activation='softmax')(x)\n",
    "\n",
    "model_final = Model(vgg16_model.input, predictions)\n",
    "\n",
    "for layer in model_final.layers[:15]:\n",
    "    layer.trainable = False\n",
    "\n",
    "for idx, layer in enumerate(model_final.layers):\n",
    "    print(idx, layer.name, layer.trainable)\n"
   ]
  },
  {
   "cell_type": "code",
   "execution_count": 278,
   "id": "7513cce8-3ae9-48d6-8acc-be5e829f59bf",
   "metadata": {
    "scrolled": true
   },
   "outputs": [
    {
     "name": "stdout",
     "output_type": "stream",
     "text": [
      "Model: \"model_18\"\n",
      "_________________________________________________________________\n",
      " Layer (type)                Output Shape              Param #   \n",
      "=================================================================\n",
      " input_15 (InputLayer)       [(None, 256, 256, 3)]     0         \n",
      "                                                                 \n",
      " block1_conv1 (Conv2D)       (None, 256, 256, 64)      1792      \n",
      "                                                                 \n",
      " block1_conv2 (Conv2D)       (None, 256, 256, 64)      36928     \n",
      "                                                                 \n",
      " block1_pool (MaxPooling2D)  (None, 128, 128, 64)      0         \n",
      "                                                                 \n",
      " block2_conv1 (Conv2D)       (None, 128, 128, 128)     73856     \n",
      "                                                                 \n",
      " block2_conv2 (Conv2D)       (None, 128, 128, 128)     147584    \n",
      "                                                                 \n",
      " block2_pool (MaxPooling2D)  (None, 64, 64, 128)       0         \n",
      "                                                                 \n",
      " block3_conv1 (Conv2D)       (None, 64, 64, 256)       295168    \n",
      "                                                                 \n",
      " block3_conv2 (Conv2D)       (None, 64, 64, 256)       590080    \n",
      "                                                                 \n",
      " block3_conv3 (Conv2D)       (None, 64, 64, 256)       590080    \n",
      "                                                                 \n",
      " block3_pool (MaxPooling2D)  (None, 32, 32, 256)       0         \n",
      "                                                                 \n",
      " block4_conv1 (Conv2D)       (None, 32, 32, 512)       1180160   \n",
      "                                                                 \n",
      " block4_conv2 (Conv2D)       (None, 32, 32, 512)       2359808   \n",
      "                                                                 \n",
      " block4_conv3 (Conv2D)       (None, 32, 32, 512)       2359808   \n",
      "                                                                 \n",
      " block4_pool (MaxPooling2D)  (None, 16, 16, 512)       0         \n",
      "                                                                 \n",
      " block5_conv1 (Conv2D)       (None, 16, 16, 512)       2359808   \n",
      "                                                                 \n",
      " block5_conv2 (Conv2D)       (None, 16, 16, 512)       2359808   \n",
      "                                                                 \n",
      " block5_conv3 (Conv2D)       (None, 16, 16, 512)       2359808   \n",
      "                                                                 \n",
      " block5_pool (MaxPooling2D)  (None, 8, 8, 512)         0         \n",
      "                                                                 \n",
      " flatten_18 (Flatten)        (None, 32768)             0         \n",
      "                                                                 \n",
      " dense_54 (Dense)            (None, 256)               8388864   \n",
      "                                                                 \n",
      " dropout_18 (Dropout)        (None, 256)               0         \n",
      "                                                                 \n",
      " dense_55 (Dense)            (None, 128)               32896     \n",
      "                                                                 \n",
      " dense_56 (Dense)            (None, 7)                 903       \n",
      "                                                                 \n",
      "=================================================================\n",
      "Total params: 23137351 (88.26 MB)\n",
      "Trainable params: 15502087 (59.14 MB)\n",
      "Non-trainable params: 7635264 (29.13 MB)\n",
      "_________________________________________________________________\n"
     ]
    }
   ],
   "source": [
    "model_final.summary()"
   ]
  },
  {
   "cell_type": "code",
   "execution_count": 279,
   "id": "bc3d44e4-4f97-4f16-8343-317aa0ceabbf",
   "metadata": {},
   "outputs": [],
   "source": [
    "# Initialize Learning Rate callback\n",
    "lr_reduce = ReduceLROnPlateau(monitor='accuracy', factor=0.6, patience=8, verbose=1, mode='max', min_lr=5e-5)"
   ]
  },
  {
   "cell_type": "code",
   "execution_count": 280,
   "id": "f72f89a8-e361-4a78-b115-8ccb4e41f95b",
   "metadata": {},
   "outputs": [],
   "source": [
    "# Init Learning rate for the dl model\n",
    "learning_rate = 5e-5\n",
    "model_final.compile(loss='categorical_crossentropy', optimizer=Adam(learning_rate=learning_rate), metrics=['accuracy'])"
   ]
  },
  {
   "cell_type": "code",
   "execution_count": 281,
   "id": "aa10f087-6fec-4293-a5e9-80ebb27a02da",
   "metadata": {},
   "outputs": [
    {
     "name": "stdout",
     "output_type": "stream",
     "text": [
      "[PhysicalDevice(name='/physical_device:CPU:0', device_type='CPU')]\n"
     ]
    }
   ],
   "source": [
    "# check training platform - cpu / gpu\n",
    "import tensorflow as tf\n",
    "print(tf.config.list_physical_devices())"
   ]
  },
  {
   "cell_type": "code",
   "execution_count": null,
   "id": "c335b1a9-d872-41c2-b068-ac774a1064e7",
   "metadata": {},
   "outputs": [],
   "source": []
  },
  {
   "cell_type": "markdown",
   "id": "82cdb910-5d83-420b-bf0b-33546d0ebccc",
   "metadata": {},
   "source": [
    "**Train / Finetune VGG16 model on custom train dataloader**"
   ]
  },
  {
   "cell_type": "code",
   "execution_count": 282,
   "id": "7d2c1680-80fc-41d1-81a2-ed4cd4a8634b",
   "metadata": {},
   "outputs": [
    {
     "name": "stdout",
     "output_type": "stream",
     "text": [
      "Epoch 1/5\n",
      "93/93 [==============================] - 672s 7s/step - loss: 2.2565 - accuracy: 0.5453 - lr: 5.0000e-05\n",
      "Epoch 2/5\n",
      "93/93 [==============================] - 656s 7s/step - loss: 0.2784 - accuracy: 0.9142 - lr: 5.0000e-05\n",
      "Epoch 3/5\n",
      "93/93 [==============================] - 295s 3s/step - loss: 0.1263 - accuracy: 0.9568 - lr: 5.0000e-05\n",
      "Epoch 4/5\n",
      "93/93 [==============================] - 288s 3s/step - loss: 0.1005 - accuracy: 0.9682 - lr: 5.0000e-05\n",
      "Epoch 5/5\n",
      "93/93 [==============================] - 288s 3s/step - loss: 0.0840 - accuracy: 0.9730 - lr: 5.0000e-05\n"
     ]
    }
   ],
   "source": [
    "history = model_final.fit(train_loader, epochs=5,shuffle=True, callbacks=[lr_reduce])\n"
   ]
  },
  {
   "cell_type": "code",
   "execution_count": null,
   "id": "1c32fc3e-3e1e-4026-b5ad-dfe5fa77f494",
   "metadata": {},
   "outputs": [],
   "source": []
  },
  {
   "cell_type": "markdown",
   "id": "26842f3e-5391-4714-93ca-e2c4ae13544d",
   "metadata": {},
   "source": [
    "**Metrics - Train Accuracy / Loss**"
   ]
  },
  {
   "cell_type": "code",
   "execution_count": 283,
   "id": "c515a3ac-1c62-40aa-bc67-63b9eb3315d7",
   "metadata": {
    "scrolled": true
   },
   "outputs": [
    {
     "data": {
      "text/plain": [
       "Text(0.5, 1.0, 'Training loss')"
      ]
     },
     "execution_count": 283,
     "metadata": {},
     "output_type": "execute_result"
    },
    {
     "data": {
      "image/png": "[encoded data removed]",
      "text/plain": [
       "<Figure size 640x480 with 1 Axes>"
      ]
     },
     "metadata": {},
     "output_type": "display_data"
    },
    {
     "data": {
      "image/png": "[encoded data removed]",
      "text/plain": [
       "<Figure size 640x480 with 1 Axes>"
      ]
     },
     "metadata": {},
     "output_type": "display_data"
    }
   ],
   "source": [
    "import matplotlib.pyplot as plt\n",
    "\n",
    "acc = history.history['accuracy']\n",
    "loss = history.history['loss']\n",
    "\n",
    "epochs = range(len(acc))\n",
    "\n",
    "plt.plot(epochs, acc)\n",
    "plt.title('Training Accuracy')\n",
    "plt.figure()\n",
    "\n",
    "plt.plot(epochs, loss)\n",
    "plt.title('Training loss')"
   ]
  },
  {
   "cell_type": "code",
   "execution_count": 284,
   "id": "62391ed2-dfd6-4294-a7fc-877c58fbb282",
   "metadata": {},
   "outputs": [],
   "source": [
    "# history.history"
   ]
  },
  {
   "cell_type": "code",
   "execution_count": null,
   "id": "6cf94f44-7913-41cb-bb10-7bc42b03fff8",
   "metadata": {},
   "outputs": [],
   "source": []
  },
  {
   "cell_type": "markdown",
   "id": "d7b26433-45c3-43af-8956-dc2aa26fee1c",
   "metadata": {},
   "source": [
    "**Predictions - Perform predictions on test images**"
   ]
  },
  {
   "cell_type": "code",
   "execution_count": 286,
   "id": "2266cb02-3177-4331-89b5-fcec258a2ff3",
   "metadata": {},
   "outputs": [],
   "source": [
    "import keras.utils as image"
   ]
  },
  {
   "cell_type": "code",
   "execution_count": 293,
   "id": "f6f85fdc-e65a-4e6a-a631-6eeee1bd8ef2",
   "metadata": {},
   "outputs": [],
   "source": [
    "# img_path = r\"E:\\Github\\ML-NLP-Assignment\\data\\test\\Form-13F\\0b3b0f1e-1a18-43c6-833f-7ce283ac5862-1.png\"\n",
    "temp = convert_from_path(r\"E:\\Github\\ML-NLP-Assignment\\data\\test_1.pdf\", fmt='png', output_folder=r\"E:\\Github\\ML-NLP-Assignment\\data\", first_page=1, last_page=1)"
   ]
  },
  {
   "cell_type": "code",
   "execution_count": 294,
   "id": "2c5088cf-8fd6-4743-ad4e-c60d3cadd45e",
   "metadata": {},
   "outputs": [],
   "source": [
    "img_path = r\"E:\\Github\\ML-NLP-Assignment\\data\\a4911eeb-7eb5-479a-a29c-1dd0f61e2d72-1.png\""
   ]
  },
  {
   "cell_type": "code",
   "execution_count": 298,
   "id": "928e156b-3594-44a1-a6c0-2d8d05707614",
   "metadata": {},
   "outputs": [
    {
     "name": "stdout",
     "output_type": "stream",
     "text": [
      "1/1 [==============================] - 1s 552ms/step\n"
     ]
    },
    {
     "data": {
      "image/png": "[encoded data removed]",
      "text/plain": [
       "<Figure size 640x480 with 1 Axes>"
      ]
     },
     "metadata": {},
     "output_type": "display_data"
    },
    {
     "data": {
      "image/png": "[encoded data removed]",
      "text/plain": [
       "<Figure size 640x480 with 1 Axes>"
      ]
     },
     "metadata": {},
     "output_type": "display_data"
    },
    {
     "name": "stdout",
     "output_type": "stream",
     "text": [
      "predicted [[8.1658265e-12 2.6730058e-08 1.3589371e-09 1.0000000e+00 6.9035153e-13\n",
      "  2.8848727e-11 1.4937682e-12]]\n"
     ]
    }
   ],
   "source": [
    "img = image.load_img(img_path, target_size=(256, 256))\n",
    "x = image.img_to_array(img)\n",
    "x = np.expand_dims(img, axis=0)\n",
    "\n",
    "ind_pred = model_final.predict(x)\n",
    "\n",
    "y_pos = np.arange(len(labels))\n",
    "score = ind_pred\n",
    "score_up = np.ravel(score)\n",
    "plt.barh(y_pos, score_up, align='center', alpha=0.5)\n",
    "plt.yticks(y_pos, labels)\n",
    "plt.title(\"Prediction results\")\n",
    "plt.show()\n",
    "plt.imshow(img)\n",
    "plt.show()\n",
    "print(\"predicted\", score)"
   ]
  },
  {
   "cell_type": "code",
   "execution_count": null,
   "id": "d682c402-150c-42e5-a64f-ba5f3c20d33c",
   "metadata": {},
   "outputs": [],
   "source": []
  },
  {
   "cell_type": "code",
   "execution_count": null,
   "id": "629da51b-e783-4e99-952b-3d63f60f7d0f",
   "metadata": {},
   "outputs": [],
   "source": []
  },
  {
   "cell_type": "markdown",
   "id": "94da26ea-30fb-4674-a6c8-47b0d19daf37",
   "metadata": {},
   "source": [
    "**Model Serialization - Save model in Tf format**"
   ]
  },
  {
   "cell_type": "code",
   "execution_count": 297,
   "id": "05fc3e4e-5386-4b9f-9bb5-2ac458c840e6",
   "metadata": {},
   "outputs": [
    {
     "name": "stdout",
     "output_type": "stream",
     "text": [
      "INFO:tensorflow:Assets written to: Doc_classifier_final\\assets\n"
     ]
    },
    {
     "name": "stderr",
     "output_type": "stream",
     "text": [
      "INFO:tensorflow:Assets written to: Doc_classifier_final\\assets\n"
     ]
    }
   ],
   "source": [
    "model_final.save(\"../saved_models/Doc_classifier_vgg16\")"
   ]
  },
  {
   "cell_type": "code",
   "execution_count": null,
   "id": "051fc09c-6d8f-468b-901d-ef1772f65236",
   "metadata": {},
   "outputs": [],
   "source": [
    "# Convert ipynb to Python file"
   ]
  },
  {
   "cell_type": "code",
   "execution_count": 299,
   "id": "17379522-0716-4705-96e8-43e870bec16c",
   "metadata": {},
   "outputs": [
    {
     "name": "stderr",
     "output_type": "stream",
     "text": [
      "[NbConvertApp] Converting notebook Document_classification.ipynb to python\n",
      "[NbConvertApp] Writing 10961 bytes to Document_classification.py\n"
     ]
    }
   ],
   "source": [
    "!jupyter nbconvert Document_classification.ipynb --to python"
   ]
  },
  {
   "cell_type": "markdown",
   "id": "788a0f45-b66a-4a42-be1a-8730cfc83fa2",
   "metadata": {},
   "source": [
    "## Model Metrics"
   ]
  },
  {
   "cell_type": "code",
   "execution_count": 302,
   "id": "ff78c5d1-f82e-4041-9eca-526011939af3",
   "metadata": {},
   "outputs": [],
   "source": [
    "from sklearn.metrics import accuracy_score, precision_score, recall_score, f1_score, classification_report, confusion_matrix"
   ]
  },
  {
   "cell_type": "code",
   "execution_count": 316,
   "id": "e329414e-dff2-4dc8-98f4-14d45a54e35b",
   "metadata": {},
   "outputs": [],
   "source": [
    "# test_datagen = ImageDataGenerator()\n",
    "# test_loader = test_datagen.flow_from_directory(test_dir)\n",
    "# batch_size = 32\n",
    "\n",
    "# # if self.saved_model_path:\n",
    "# #     model = tf.keras.models.load_model(self.saved_model_path)\n",
    "\n",
    "# # Predictions on test data\n",
    "# y_true = test_loader.classes\n",
    "# y_pred_probs = model_final.predict(test_loader, steps=test_loader.n // batch_size + 1)\n",
    "# y_pred = np.argmax(y_pred_probs, axis=1)\n",
    "\n",
    "# accuracy = accuracy_score(y_true, y_pred)\n",
    "# precision = precision_score(y_true, y_pred, average='weighted')\n",
    "# recall = recall_score(y_true, y_pred, average='weighted')\n",
    "# f1 = f1_score(y_true, y_pred, average='weighted')\n",
    "\n",
    "# print(f\"Accuracy: {accuracy}\")\n",
    "# print(f\"Precision: {precision}\")\n",
    "# print(f\"Recall: {recall}\")\n",
    "# print(f\"F1 Score: {f1}\")\n",
    "# print(\"Classification Report:\")\n",
    "# print(classification_report(y_true, y_pred, target_names=test_loader.class_indices.keys()))\n",
    "# print(\"Confusion Matrix:\")\n",
    "# print(confusion_matrix(y_true, y_pred))\n",
    "\n",
    "# # predictions = [labels[k] for k in predicted_class_indices]\n",
    "# # print(predictions[:10])\n",
    "\n"
   ]
  },
  {
   "cell_type": "code",
   "execution_count": 312,
   "id": "5e0108bc-c638-4352-8bb6-84055ab2e197",
   "metadata": {},
   "outputs": [
    {
     "name": "stdout",
     "output_type": "stream",
     "text": [
      "Found 181 images belonging to 7 classes.\n",
      "6/6 [==============================] - 26s 4s/step\n",
      "Accuracy: 0.9060773480662984\n",
      "Precision: 0.9181063434779675\n",
      "Recall: 0.9060773480662984\n",
      "F1 Score: 0.9039874850667677\n",
      "Classification Report:\n",
      "                     precision    recall  f1-score   support\n",
      "\n",
      "82-Submission-sheet       0.89      1.00      0.94        24\n",
      "           Form-13F       1.00      0.73      0.84        33\n",
      "           Form-19B       0.96      1.00      0.98        22\n",
      "             Form-D       0.91      1.00      0.96        32\n",
      "            Form-TA       0.95      0.95      0.95        22\n",
      "             Form-X       0.95      0.75      0.84        24\n",
      "             Others       0.74      0.96      0.84        24\n",
      "\n",
      "           accuracy                           0.91       181\n",
      "          macro avg       0.91      0.91      0.91       181\n",
      "       weighted avg       0.92      0.91      0.90       181\n",
      "\n",
      "Confusion Matrix:\n",
      "[[24  0  0  0  0  0  0]\n",
      " [ 0 24  1  3  0  1  4]\n",
      " [ 0  0 22  0  0  0  0]\n",
      " [ 0  0  0 32  0  0  0]\n",
      " [ 1  0  0  0 21  0  0]\n",
      " [ 1  0  0  0  1 18  4]\n",
      " [ 1  0  0  0  0  0 23]]\n"
     ]
    }
   ],
   "source": [
    "test_datagen = ImageDataGenerator()\n",
    "test_loader = test_datagen.flow_from_directory(test_dir, shuffle=False)\n",
    "batch_size = 32\n",
    "\n",
    "\n",
    "model = tf.keras.models.load_model(\"../saved_models/Doc_classifier_vgg16\")\n",
    "\n",
    "# Predictions on test data\n",
    "y_true = test_loader.classes\n",
    "y_pred_probs = model.predict(test_loader, steps=test_loader.n // batch_size + 1)\n",
    "y_pred = np.argmax(y_pred_probs, axis=1)\n",
    "\n",
    "accuracy = accuracy_score(y_true, y_pred)\n",
    "precision = precision_score(y_true, y_pred, average='weighted')\n",
    "recall = recall_score(y_true, y_pred, average='weighted')\n",
    "f1 = f1_score(y_true, y_pred, average='weighted')\n",
    "\n",
    "print(f\"Accuracy: {accuracy}\")\n",
    "print(f\"Precision: {precision}\")\n",
    "print(f\"Recall: {recall}\")\n",
    "print(f\"F1 Score: {f1}\")\n",
    "print(\"Classification Report:\")\n",
    "print(classification_report(y_true, y_pred, target_names=test_loader.class_indices.keys()))\n",
    "print(\"Confusion Matrix:\")\n",
    "print(confusion_matrix(y_true, y_pred))\n"
   ]
  },
  {
   "cell_type": "code",
   "execution_count": null,
   "id": "633f5edc-41d3-4639-833f-d51b53796905",
   "metadata": {},
   "outputs": [],
   "source": []
  },
  {
   "cell_type": "code",
   "execution_count": null,
   "id": "3f0a256e-e716-4c67-b0be-922a6b12cb15",
   "metadata": {},
   "outputs": [],
   "source": [
    "# For creating augmented images from test images, for better evaluation of models"
   ]
  },
  {
   "cell_type": "code",
   "execution_count": 311,
   "id": "70f1862a-4bb5-4e50-a728-31ac802a3607",
   "metadata": {},
   "outputs": [
    {
     "name": "stdout",
     "output_type": "stream",
     "text": [
      "82-Submission-sheet\n"
     ]
    },
    {
     "data": {
      "application/vnd.jupyter.widget-view+json": {
       "model_id": "3623d4d6a60b4a9f83a84139093e50a0",
       "version_major": 2,
       "version_minor": 0
      },
      "text/plain": [
       "  0%|          | 0/3 [00:00<?, ?it/s]"
      ]
     },
     "metadata": {},
     "output_type": "display_data"
    },
    {
     "name": "stdout",
     "output_type": "stream",
     "text": [
      "Form-13F\n"
     ]
    },
    {
     "data": {
      "application/vnd.jupyter.widget-view+json": {
       "model_id": "f3f15766ff6346b1922d91ba1eb13839",
       "version_major": 2,
       "version_minor": 0
      },
      "text/plain": [
       "  0%|          | 0/11 [00:00<?, ?it/s]"
      ]
     },
     "metadata": {},
     "output_type": "display_data"
    },
    {
     "name": "stdout",
     "output_type": "stream",
     "text": [
      "Form-19B\n"
     ]
    },
    {
     "data": {
      "application/vnd.jupyter.widget-view+json": {
       "model_id": "66b8c43a7ca942d1ba460f1a1c21d741",
       "version_major": 2,
       "version_minor": 0
      },
      "text/plain": [
       "  0%|          | 0/2 [00:00<?, ?it/s]"
      ]
     },
     "metadata": {},
     "output_type": "display_data"
    },
    {
     "name": "stdout",
     "output_type": "stream",
     "text": [
      "Form-D\n"
     ]
    },
    {
     "data": {
      "application/vnd.jupyter.widget-view+json": {
       "model_id": "3f50297064bf410cb6de0222d668106c",
       "version_major": 2,
       "version_minor": 0
      },
      "text/plain": [
       "  0%|          | 0/8 [00:00<?, ?it/s]"
      ]
     },
     "metadata": {},
     "output_type": "display_data"
    },
    {
     "name": "stdout",
     "output_type": "stream",
     "text": [
      "Form-TA\n"
     ]
    },
    {
     "data": {
      "application/vnd.jupyter.widget-view+json": {
       "model_id": "67c4b05268004b5bb896031999094196",
       "version_major": 2,
       "version_minor": 0
      },
      "text/plain": [
       "  0%|          | 0/2 [00:00<?, ?it/s]"
      ]
     },
     "metadata": {},
     "output_type": "display_data"
    },
    {
     "name": "stdout",
     "output_type": "stream",
     "text": [
      "Form-X\n"
     ]
    },
    {
     "data": {
      "application/vnd.jupyter.widget-view+json": {
       "model_id": "b2dc4c8c63334eefa1dcf07f0d50bd09",
       "version_major": 2,
       "version_minor": 0
      },
      "text/plain": [
       "  0%|          | 0/6 [00:00<?, ?it/s]"
      ]
     },
     "metadata": {},
     "output_type": "display_data"
    },
    {
     "name": "stdout",
     "output_type": "stream",
     "text": [
      "Others\n"
     ]
    },
    {
     "data": {
      "application/vnd.jupyter.widget-view+json": {
       "model_id": "075434e64ec3447a8df8aa86602b654d",
       "version_major": 2,
       "version_minor": 0
      },
      "text/plain": [
       "  0%|          | 0/4 [00:00<?, ?it/s]"
      ]
     },
     "metadata": {},
     "output_type": "display_data"
    }
   ],
   "source": [
    "# transform = A.Compose([\n",
    "#     A.RandomRotate90(),\n",
    "#     A.OneOf([\n",
    "#         A.MotionBlur(p=.2),\n",
    "#         A.MedianBlur(blur_limit=3, p=0.1),\n",
    "#         A.Blur(blur_limit=3, p=0.1)\n",
    "#     ], p=0.2),\n",
    "#     A.OneOf([A.OpticalDistortion(p=0.3), A.GridDistortion(p=0.1)]),\n",
    "#     A.OneOf([A.RandomBrightnessContrast(), A.CLAHE(clip_limit=2)]),\n",
    "#     A.HueSaturationValue(p=0.3)\n",
    "# ])\n",
    "\n",
    "# # Loop through train directory to find number of pdfs for each class\n",
    "# for idx, path in enumerate(os.listdir(test_dir)):\n",
    "#     img_class_path = os.path.join(test_dir, path)\n",
    "    \n",
    "    \n",
    "#     target_no_of_images = 20\n",
    "    \n",
    "#     # if path !=  'Form-13F':\n",
    "#     no_of_images = len(os.listdir(img_class_path))\n",
    "#     print(path)\n",
    "#     for img_path in tqdm(os.listdir(img_class_path)):\n",
    "#         img_full_path = os.path.join(img_class_path, img_path)\n",
    "#         # for i in range(target_no_of_images - path_dict[path] + 1):\n",
    "#         batch_size = round((target_no_of_images - no_of_images) /no_of_images)\n",
    "#         for i in range(0, batch_size+1):\n",
    "#             image = cv2.imread(img_full_path)\n",
    "#             image = cv2.cvtColor(image, cv2.COLOR_BGR2RGB)\n",
    "#             # print(image)\n",
    "#             augmented_image = transform(image=image)['image']\n",
    "#             cv2.imwrite(os.path.join(img_class_path, f\"augmented_{i}\"+ img_path), augmented_image)       "
   ]
  },
  {
   "cell_type": "code",
   "execution_count": null,
   "id": "4b290768-5583-439c-9b4d-7a9b94e8bfeb",
   "metadata": {},
   "outputs": [],
   "source": []
  },
  {
   "cell_type": "markdown",
   "id": "81657b7c-207e-404b-90c3-4fd47836b01a",
   "metadata": {},
   "source": [
    "**PS:** "
   ]
  },
  {
   "cell_type": "markdown",
   "id": "539cab23-df6e-4667-bf31-2069e7df4c86",
   "metadata": {},
   "source": [
    "For fully class based implementation of the above code, please refer to **'src/doc_classifer_dl.py'**, where all the above code has been modularized and implemented for batch as well as single image predictions - deployed using Gradio"
   ]
  },
  {
   "cell_type": "code",
   "execution_count": null,
   "id": "4875ba81-98dc-4aa1-b916-d927361f3cf0",
   "metadata": {},
   "outputs": [],
   "source": []
  },
  {
   "cell_type": "markdown",
   "id": "1e5291c5-0c48-4d6e-99b2-bb21ceff3fac",
   "metadata": {},
   "source": [
    "-----"
   ]
  },
  {
   "cell_type": "markdown",
   "id": "3d22d9d1-a274-4efb-8ab9-861c273bbb88",
   "metadata": {},
   "source": [
    "#### Author: Vishak Gopkumar\n",
    "#### Date: 24-09-2023"
   ]
  },
  {
   "cell_type": "code",
   "execution_count": null,
   "id": "57f8e5d0-6ddf-4c22-951a-dd5fbcf36b54",
   "metadata": {},
   "outputs": [],
   "source": []
  }
 ],
 "metadata": {
  "kernelspec": {
   "display_name": "Python 3 (ipykernel)",
   "language": "python",
   "name": "python3"
  },
  "language_info": {
   "codemirror_mode": {
    "name": "ipython",
    "version": 3
   },
   "file_extension": ".py",
   "mimetype": "text/x-python",
   "name": "python",
   "nbconvert_exporter": "python",
   "pygments_lexer": "ipython3",
   "version": "3.10.13"
  }
 },
 "nbformat": 4,
 "nbformat_minor": 5
}
